{
 "cells": [
  {
   "cell_type": "code",
   "execution_count": null,
   "id": "729d8a29",
   "metadata": {},
   "outputs": [],
   "source": [
    "import pandas as pd\n",
    "import numpy as np\n",
    "import datetime as dt\n",
    "import matplotlib.pyplot as plt \n",
    "import seaborn as sns\n",
    "import plotly.graph_objects as go\n",
    "import plotly.express as px\n",
    "from sklearn.preprocessing import StandardScaler\n",
    "from sklearn.cluster import KMeans\n",
    "import statsmodels.api as sm\n",
    "import statsmodels.formula.api as smf\n",
    "from sklearn.model_selection import train_test_split\n",
    "from sklearn.metrics import accuracy_score\n",
    "import random"
   ]
  },
  {
   "cell_type": "code",
   "execution_count": null,
   "id": "46aa1eae",
   "metadata": {},
   "outputs": [],
   "source": [
    "#read data_population & data_win\n",
    "data_population = pd.read_csv(\"MASS_BIZ_TE_POPULATION_Updated.csv\",low_memory=False)\n",
    "data_win = pd.read_csv(\"MASS_POSS_TE_WIN_Updated.csv\",low_memory=False)"
   ]
  },
  {
   "cell_type": "code",
   "execution_count": null,
   "id": "0a4396d9",
   "metadata": {},
   "outputs": [],
   "source": [
    "#required only Metered=Y datavalues\n",
    "data_population = data_population[data_population.METERED.isin(['Y'])]\n",
    "data_win = data_win[data_win.METERED.isin(['Y'])]"
   ]
  },
  {
   "cell_type": "code",
   "execution_count": null,
   "id": "e5c7e960",
   "metadata": {},
   "outputs": [],
   "source": [
    "#need to filter data from 2018 to 2021\n",
    "data_population['cohort_month'] =  pd.to_datetime(data_population['cohort_month'])\n",
    "data_win['cohort_month'] =  pd.to_datetime(data_win['cohort_month'])"
   ]
  },
  {
   "cell_type": "code",
   "execution_count": null,
   "id": "b34a11c1",
   "metadata": {},
   "outputs": [],
   "source": [
    "#consider data from cohort year 2018-2021\n",
    "data_population =data_population[(data_population['cohort_month']> '2018-1-1') & (data_population['cohort_month']<= '2021-12-31') ]\n",
    "data_win =data_win[(data_win['cohort_month']> '2018-1-1') & (data_win['cohort_month']<= '2021-12-31') ]"
   ]
  },
  {
   "cell_type": "code",
   "execution_count": null,
   "id": "5a75de5f",
   "metadata": {},
   "outputs": [],
   "source": [
    "data_population.info()"
   ]
  },
  {
   "cell_type": "code",
   "execution_count": null,
   "id": "8e9818bc",
   "metadata": {},
   "outputs": [],
   "source": [
    "data_population.head()"
   ]
  },
  {
   "cell_type": "code",
   "execution_count": null,
   "id": "67a24a6f",
   "metadata": {},
   "outputs": [],
   "source": [
    "data_win.info()"
   ]
  },
  {
   "cell_type": "code",
   "execution_count": null,
   "id": "1bf847f8",
   "metadata": {},
   "outputs": [],
   "source": [
    "data_win.head()"
   ]
  },
  {
   "cell_type": "code",
   "execution_count": null,
   "id": "448798ef",
   "metadata": {},
   "outputs": [],
   "source": [
    "#column names of data_population\n",
    "data_population.columns"
   ]
  },
  {
   "cell_type": "code",
   "execution_count": null,
   "id": "4bf4b426",
   "metadata": {},
   "outputs": [],
   "source": [
    "#data selection from data_population \n",
    "df_population = data_population[['TERM_END_DT','snapshot_date_loss','ESI_ID','TERM_LENGTH','esi_bp_tenure_months',\n",
    "                                 'BP_tenure_mth','FROM_TERM_LENGTH','Product_Type','ren_channel','esi_annual_mwh','dm_flag',\n",
    "                                 'obtm_flag','swap_channel','From_Price_Bucket','To_Price_Bucket','Price_Delta_Bucket',\n",
    "                                 'prev_product_group', 'to_product_group','LOSS_TYPE','T2_SWAP_TYPE','swap_type','Major_Group']]"
   ]
  },
  {
   "cell_type": "code",
   "execution_count": null,
   "id": "f0c09cae",
   "metadata": {},
   "outputs": [],
   "source": [
    "#column names of data_win\n",
    "data_win.columns"
   ]
  },
  {
   "cell_type": "code",
   "execution_count": null,
   "id": "0447ac61",
   "metadata": {},
   "outputs": [],
   "source": [
    "#data selection from data_win, similar to data_population \n",
    "df_win = data_win[['TERM_END_DT','snapshot_date_loss','ESI_ID','TERM_LENGTH','esi_bp_tenure_months','BP_tenure_mth',\n",
    "                   'FROM_TERM_LENGTH','Product_Type','ren_channel','esi_annual_mwh','dm_flag', 'obtm_flag','swap_channel',\n",
    "                    'From_Price_Bucket','To_Price_Bucket','Price_Delta_Bucket', 'prev_product_group', 'to_product_group',\n",
    "                   'LOSS_TYPE','T2_SWAP_TYPE','swap_type','Major_Group']]"
   ]
  },
  {
   "cell_type": "code",
   "execution_count": null,
   "id": "e364383a",
   "metadata": {},
   "outputs": [],
   "source": [
    "#joining both dataframes vertically\n",
    "df = pd.concat([df_population, df_win], ignore_index=True)"
   ]
  },
  {
   "cell_type": "code",
   "execution_count": null,
   "id": "83d5b5f1",
   "metadata": {},
   "outputs": [],
   "source": [
    "#round the annual_mwh to 3 digits\n",
    "df.esi_annual_mwh = df.esi_annual_mwh.round(3)"
   ]
  },
  {
   "cell_type": "code",
   "execution_count": null,
   "id": "d5e6e230",
   "metadata": {},
   "outputs": [],
   "source": [
    "df.head()"
   ]
  },
  {
   "cell_type": "code",
   "execution_count": null,
   "id": "c278eaae",
   "metadata": {},
   "outputs": [],
   "source": [
    "df.info()\n",
    "#we have 22 variables, values of these variables could be repeated as we joined both the dataframes"
   ]
  },
  {
   "cell_type": "code",
   "execution_count": null,
   "id": "1a76b1a8",
   "metadata": {},
   "outputs": [],
   "source": [
    "#drop duplicate rows\n",
    "df = df.drop_duplicates()"
   ]
  },
  {
   "cell_type": "code",
   "execution_count": null,
   "id": "6b88d20f",
   "metadata": {},
   "outputs": [],
   "source": [
    "df.info()"
   ]
  },
  {
   "cell_type": "code",
   "execution_count": null,
   "id": "71d5d901",
   "metadata": {},
   "outputs": [],
   "source": [
    "#convert data to csv file\n",
    "df.to_csv('C:/Users/vndnt/Box/04TXU/python/dataraw.csv')"
   ]
  },
  {
   "cell_type": "code",
   "execution_count": null,
   "id": "7dfdd536",
   "metadata": {},
   "outputs": [],
   "source": [
    "#copy filtered dataset to data\n",
    "data=df.copy()"
   ]
  },
  {
   "cell_type": "code",
   "execution_count": null,
   "id": "2efd1490",
   "metadata": {},
   "outputs": [],
   "source": [
    "#snapshot of a customer enteries\n",
    "data[data['ESI_ID']==\"10443720006957239\"]"
   ]
  },
  {
   "cell_type": "markdown",
   "id": "868863d2",
   "metadata": {},
   "source": [
    "## Data cleaning & processing"
   ]
  },
  {
   "cell_type": "code",
   "execution_count": null,
   "id": "0b9bd9ec",
   "metadata": {},
   "outputs": [],
   "source": [
    "data.info()"
   ]
  },
  {
   "cell_type": "code",
   "execution_count": null,
   "id": "f9307664",
   "metadata": {},
   "outputs": [],
   "source": [
    "#change datatype of varriables \n",
    "data['TERM_END_DT'] =  pd.to_datetime(data['TERM_END_DT'])\n",
    "data['snapshot_date_loss'] =  pd.to_datetime(data['snapshot_date_loss'])\n",
    "data['dm_flag'] = data['dm_flag'].astype(object)\n",
    "data['obtm_flag'] = data['obtm_flag'].astype(object)"
   ]
  },
  {
   "cell_type": "code",
   "execution_count": null,
   "id": "70efbe04",
   "metadata": {},
   "outputs": [],
   "source": [
    "#Convert Term end date & loss date to date format (mm-dd-yyyy)\n",
    "data['TERM_END_DT'] = data['TERM_END_DT'].dt.strftime('%m-%d-%Y')\n",
    "data['snapshot_date_loss'] = data['snapshot_date_loss'].dt.strftime('%m-%d-%Y')"
   ]
  },
  {
   "cell_type": "code",
   "execution_count": null,
   "id": "87c9b0a4",
   "metadata": {},
   "outputs": [],
   "source": [
    "data['TERM_END_DT'] =  pd.to_datetime(data['TERM_END_DT'])\n",
    "data['snapshot_date_loss'] =  pd.to_datetime(data['snapshot_date_loss'])"
   ]
  },
  {
   "cell_type": "code",
   "execution_count": null,
   "id": "5177a948",
   "metadata": {},
   "outputs": [],
   "source": [
    "#data.info()"
   ]
  },
  {
   "cell_type": "code",
   "execution_count": null,
   "id": "a464e937",
   "metadata": {},
   "outputs": [],
   "source": [
    "#Sum of null values per variable\n",
    "print(data.isnull().sum())"
   ]
  },
  {
   "cell_type": "markdown",
   "id": "21173808",
   "metadata": {},
   "source": [
    "### Imputing missing values"
   ]
  },
  {
   "cell_type": "code",
   "execution_count": null,
   "id": "0f0643c6",
   "metadata": {},
   "outputs": [],
   "source": [
    "#Major_Group: use most frequent\n",
    "data['Major_Group'].fillna(data['Major_Group'].mode()[0], inplace = True)"
   ]
  },
  {
   "cell_type": "code",
   "execution_count": null,
   "id": "5df25212",
   "metadata": {},
   "outputs": [],
   "source": [
    "#Max term end date in dataframe to impute missing snapshot date loss \n",
    "data['TERM_END_DT'].max()"
   ]
  },
  {
   "cell_type": "code",
   "execution_count": null,
   "id": "5fa90aa3",
   "metadata": {},
   "outputs": [],
   "source": [
    "#snapshot_date_loss:all missing value = 2030-01-01\n",
    "data['snapshot_date_loss'] = data['snapshot_date_loss'].fillna(dt.datetime(2030,1,1)) \n",
    "#esi_bp_tenure_mth\n",
    "data['esi_bp_tenure_months']=data['esi_bp_tenure_months'].fillna(0) #use avg of esi_bp_tenure_mth \n",
    "#BP_tenure_mth\n",
    "data['BP_tenure_mth']=data['BP_tenure_mth'].fillna(data.groupby('Major_Group')['FROM_TERM_LENGTH'].transform('mean')) #use avg of BP_tenure_mth \n",
    "#FROM_TERM_LENGTH: impute with avg grouped by industry\n",
    "data['FROM_TERM_LENGTH'] = data['FROM_TERM_LENGTH'].fillna(data.groupby('Major_Group')['FROM_TERM_LENGTH'].transform('mean'))\n",
    "#ren_channel: use most frequent\n",
    "data['ren_channel'].fillna(data['ren_channel'].mode()[0], inplace = True)\n",
    "#esi_annual_mwh: impute with avg grouped by industry\n",
    "data['esi_annual_mwh'] = data['esi_annual_mwh'].fillna(data.groupby('Major_Group')['esi_annual_mwh'].transform('mean').round(3))\n",
    "#dm_flag\n",
    "data['dm_flag'] = data['dm_flag'].fillna(0) #immputing all missing as zero, assuming no value ~ no contact\n",
    "#obtm_flag\n",
    "data['obtm_flag'] = data['obtm_flag'].fillna(0) #immputing all missing as zero, assuming no value ~ no contact\n",
    "#swap_channel: use most frequent\n",
    "data['swap_channel'].fillna(data['swap_channel'].mode()[0], inplace = True)\n",
    "#To_Price_Bucket: use most frequent\n",
    "data['To_Price_Bucket'].fillna(data['To_Price_Bucket'].mode()[0], inplace = True)\n",
    "#Price_Delta_Bucket: use most frequent\n",
    "data['Price_Delta_Bucket'].fillna(data['Price_Delta_Bucket'].mode()[0], inplace = True)\n",
    "#prev_product_group: use most frequent\n",
    "data['prev_product_group'].fillna(data['prev_product_group'].mode()[0], inplace = True)\n",
    "#to_product_group: use most frequent\n",
    "data['to_product_group'].fillna(data['to_product_group'].mode()[0], inplace = True)\n",
    "#LOSS_TYPE: use most frequent\n",
    "data['LOSS_TYPE'].fillna(data['LOSS_TYPE'].mode()[0], inplace = True)\n",
    "#SWAP_TYPE: use unkown to fill missing \n",
    "data['swap_type'].fillna(\"unkown\", inplace = True)\n"
   ]
  },
  {
   "cell_type": "code",
   "execution_count": null,
   "id": "709ff564",
   "metadata": {},
   "outputs": [],
   "source": [
    "print(data.isnull().sum())"
   ]
  },
  {
   "cell_type": "code",
   "execution_count": null,
   "id": "cf0d2885",
   "metadata": {},
   "outputs": [],
   "source": [
    "#drop remaining missing rows \n",
    "data.dropna(inplace=True)"
   ]
  },
  {
   "cell_type": "code",
   "execution_count": null,
   "id": "be1e1ff3",
   "metadata": {},
   "outputs": [],
   "source": [
    "data.info()"
   ]
  },
  {
   "cell_type": "code",
   "execution_count": null,
   "id": "78c13c5f",
   "metadata": {},
   "outputs": [],
   "source": [
    "#Convert datatype of both contacts i.e. dm and obtm flag\n",
    "data['dm_flag'] = data['dm_flag'].astype(object)\n",
    "data['obtm_flag'] = data['obtm_flag'].astype(object)"
   ]
  },
  {
   "cell_type": "code",
   "execution_count": null,
   "id": "ea285bfb",
   "metadata": {},
   "outputs": [],
   "source": [
    "#select the nonnumerical columns and print out the number of unique categories\n",
    "for i in data.select_dtypes(\"object\").columns:\n",
    "    print(f\"Column {i} has these type of data: {data[i].nunique()}\")\n",
    "    print(\"***************************************************\")"
   ]
  },
  {
   "cell_type": "markdown",
   "id": "4ea1430c",
   "metadata": {},
   "source": [
    "### limiting multiple categories per variable by merging"
   ]
  },
  {
   "cell_type": "code",
   "execution_count": null,
   "id": "384aa2c6",
   "metadata": {
    "scrolled": false
   },
   "outputs": [],
   "source": [
    "data['ren_channel'].value_counts()"
   ]
  },
  {
   "cell_type": "code",
   "execution_count": null,
   "id": "a9a8a5e2",
   "metadata": {},
   "outputs": [],
   "source": [
    "#both the web channels could be combined to one\n",
    "data['ren_channel'].replace({'Web Reactive': 'Web','Web Search': 'Web'}, inplace = True)"
   ]
  },
  {
   "cell_type": "code",
   "execution_count": null,
   "id": "408fea9e",
   "metadata": {},
   "outputs": [],
   "source": [
    "data['swap_type'].value_counts()"
   ]
  },
  {
   "cell_type": "code",
   "execution_count": null,
   "id": "5d6d19e1",
   "metadata": {},
   "outputs": [],
   "source": [
    "#all low counts swap type could be combined to one\n",
    "data['swap_type'].replace({'OTHER-SWP': 'OTHER','RE-CLASS': 'OTHER','MTM2MTM': 'OTHER','RESTART':'OTHER'}, inplace = True)"
   ]
  },
  {
   "cell_type": "code",
   "execution_count": null,
   "id": "350f95e6",
   "metadata": {
    "scrolled": true
   },
   "outputs": [],
   "source": [
    "data['swap_channel'].value_counts()\n",
    "#Majority cusotmers are using Call center or BAAt"
   ]
  },
  {
   "cell_type": "code",
   "execution_count": null,
   "id": "1f7c09a1",
   "metadata": {},
   "outputs": [],
   "source": [
    "#Merging all low use channels to Other\n",
    "data['swap_channel'].replace({'Agile': 'Other','DM': 'Other','Web to Phone SOE': 'Other'}, inplace = True)"
   ]
  },
  {
   "cell_type": "code",
   "execution_count": null,
   "id": "5b14cc6b",
   "metadata": {},
   "outputs": [],
   "source": [
    "data['From_Price_Bucket'].value_counts()\n",
    "#Majority of customers are in 0-3 cents price bucket"
   ]
  },
  {
   "cell_type": "code",
   "execution_count": null,
   "id": "51f24b32",
   "metadata": {},
   "outputs": [],
   "source": [
    "#In order to calculate the Monetory value, unit price term required\n",
    "data['From_Price_Bucket'].replace({'0-3 cents': '0-5 cents',\n",
    "                                '3-5 cents': '0-5 cents',\n",
    "                                '5-7 cents': '5-13+ cents',\n",
    "                                '7-9 cents': '5-13+ cents',\n",
    "                                '9-11 cents': '5-13+ cents',\n",
    "                                '13+ cents': '5-13+ cents'}, inplace = True)"
   ]
  },
  {
   "cell_type": "code",
   "execution_count": null,
   "id": "45d99c39",
   "metadata": {},
   "outputs": [],
   "source": [
    "data['Price_Delta_Bucket'].value_counts()\n",
    "#to reduce price delta unique values, grouping all positive changes and negative changes to two categories"
   ]
  },
  {
   "cell_type": "code",
   "execution_count": null,
   "id": "f3a7a442",
   "metadata": {},
   "outputs": [],
   "source": [
    "#Changing all negative delta to \"price_drop\" & all positive delta to \"price_up\"\n",
    "data['Price_Delta_Bucket'].replace({'-0.5 to 0.0 cents': 'price_drop', '-1.0 to -0.5 cents': 'price_drop',\n",
    "                                   '-1.5 to -1.0 cents': 'price_drop', '-2.0 to -1.5 cents': 'price_drop', \n",
    "                                   '-2.5 to -2.0 cents': 'price_drop', '-4.0 to -3.5 cents': 'price_drop',\n",
    "                                  '-3.0 to -2.5 cents': 'price_drop', '<-5.0 cents': 'price_drop',\n",
    "                                  '-3.5 to -3.0 cents': 'price_drop', '-5.0 to -4.5 cents': 'price_drop',\n",
    "                                  '-4.5 to -4.0 cents': 'price_drop', \n",
    "                                   '2.0 to 2.5 cents': 'price_up', '1.5 to 2.0 cents' : 'price_up', \n",
    "                                   '0.5 to 1.0 cents' : 'price_up', '2.5 to 3.0 cents' : 'price_up',\n",
    "                                   '1.0 to 1.5 cents' : 'price_up', '3.0 to 3.5 cents' : 'price_up',\n",
    "                                  '0.0 to 0.5 cents' : 'price_up',  '4.0 to 4.5 cents' : 'price_up',\n",
    "                                    '3.5 to 4.0 cents' : 'price_up',  '4.5 to 5.0 cents' : 'price_up',\n",
    "                                    '+5.0 cents' : 'price_up'\n",
    "                                  }, inplace = True)\n"
   ]
  },
  {
   "cell_type": "code",
   "execution_count": null,
   "id": "4dc80321",
   "metadata": {},
   "outputs": [],
   "source": [
    "data['prev_product_group'].value_counts()\n",
    "#merge both MTMC and MTMNC to Mnth"
   ]
  },
  {
   "cell_type": "code",
   "execution_count": null,
   "id": "59d22934",
   "metadata": {},
   "outputs": [],
   "source": [
    "data['prev_product_group'].replace({'MTMC': 'Mnth', \n",
    "                           'MTMNC': 'Mnth',\n",
    "                          }, inplace = True)"
   ]
  },
  {
   "cell_type": "code",
   "execution_count": null,
   "id": "cdd9946c",
   "metadata": {},
   "outputs": [],
   "source": [
    "data['to_product_group'].value_counts()\n",
    "#merge both MTMC and MTMNC to Mnth"
   ]
  },
  {
   "cell_type": "code",
   "execution_count": null,
   "id": "8b2a14af",
   "metadata": {},
   "outputs": [],
   "source": [
    "data['to_product_group'].replace({'MTMC': 'Mnth', \n",
    "                           'MTMNC': 'Mnth',\n",
    "                          }, inplace = True)"
   ]
  },
  {
   "cell_type": "code",
   "execution_count": null,
   "id": "203c3a77",
   "metadata": {},
   "outputs": [],
   "source": [
    "data['LOSS_TYPE'].value_counts()"
   ]
  },
  {
   "cell_type": "code",
   "execution_count": null,
   "id": "8357c931",
   "metadata": {},
   "outputs": [],
   "source": [
    "data['Major_Group'].value_counts()\n",
    "#Majority of the custoomers are from service industry"
   ]
  },
  {
   "cell_type": "code",
   "execution_count": null,
   "id": "cf3bd7d9",
   "metadata": {},
   "outputs": [],
   "source": [
    "#Combining all other (less frequency industries) to Other_indutries group\n",
    "data['Major_Group'].replace({'Retail trade': 'Other_Industries', \n",
    "                           'Transportation, communications, and utilities': 'Other_Industries',\n",
    "                           'Financial, insurance, and real estate industries': 'Other_Industries',\n",
    "                           'Public Administration': 'Other_Industries', \n",
    "                           'Construction industries': 'Other_Industries',\n",
    "                           'Wholesale trade': 'Other_Industries',\n",
    "                           'Manufacturing': 'Other_Industries',\n",
    "                           'Mining': 'Other_Industries',\n",
    "                           'Agriculture, Forestry, Fishing': 'Other_Industries',\n",
    "                          }, inplace = True)"
   ]
  },
  {
   "cell_type": "code",
   "execution_count": null,
   "id": "f5db0244",
   "metadata": {},
   "outputs": [],
   "source": [
    "#reviewing the unique categories of all categerical variables\n",
    "for i in data.select_dtypes(\"object\").columns:\n",
    "    print(f\"Column {i} has these type of data: {data[i].nunique()}\")\n",
    "    print(\"***************************************************\")"
   ]
  },
  {
   "cell_type": "code",
   "execution_count": null,
   "id": "545ecb85",
   "metadata": {},
   "outputs": [],
   "source": [
    "#data.to_csv('C:/Users/vndnt/Box/04TXU/python/dataClean.csv')"
   ]
  },
  {
   "cell_type": "markdown",
   "id": "6bec7960",
   "metadata": {},
   "source": [
    "### EDA"
   ]
  },
  {
   "cell_type": "code",
   "execution_count": null,
   "id": "294b08c6",
   "metadata": {},
   "outputs": [],
   "source": [
    "#Filter data for term length 12, 24 and 36 i.e. one year, two year and three year\n",
    "term = [12,24,36]\n",
    "dft = data[data['TERM_LENGTH'].isin(term)]"
   ]
  },
  {
   "cell_type": "code",
   "execution_count": null,
   "id": "1aa0e7fc",
   "metadata": {},
   "outputs": [],
   "source": [
    "#dft.to_csv('C:/Users/vndnt/Box/04TXU/python/datatotableau.csv')"
   ]
  },
  {
   "cell_type": "code",
   "execution_count": null,
   "id": "5a33753b",
   "metadata": {},
   "outputs": [],
   "source": [
    "g = sns.countplot(x=\"TERM_LENGTH\", hue=\"T2_SWAP_TYPE\", data=dft)"
   ]
  },
  {
   "cell_type": "code",
   "execution_count": null,
   "id": "c9333a50",
   "metadata": {},
   "outputs": [],
   "source": [
    "# Percentage of Rollover, Renewal and Loss (T2 swap type)\n",
    "fg = sns.displot(data=data, x='T2_SWAP_TYPE', stat='percent', height=5.5, aspect=1.8)\n",
    "for ax in fg.axes.ravel():\n",
    "    \n",
    "# add annotations\n",
    "    for c in ax.containers:\n",
    "        labels = [f'{w:0.1f}%' if (w := v.get_height()) > 0 else '' for v in c]\n",
    "        ax.bar_label(c, labels=labels, label_type='edge', fontsize=13, rotation=360)\n",
    "    ax.margins(y=0.2)\n",
    "plt.show()"
   ]
  },
  {
   "cell_type": "code",
   "execution_count": null,
   "id": "57b33a18",
   "metadata": {},
   "outputs": [],
   "source": [
    "#Count of swap type colored by product categories\n",
    "plt.figure(figsize=(12,6))\n",
    "sns.countplot(x=\"T2_SWAP_TYPE\",hue=\"Product_Type\", data=df)\n",
    "plt.title(\"The Counts of Swap type by Product type\")\n",
    "plt.legend()"
   ]
  },
  {
   "cell_type": "code",
   "execution_count": null,
   "id": "a317a227",
   "metadata": {},
   "outputs": [],
   "source": [
    "#Avg annual usage vs term length: Customers using more mwh, mostly sign yearly contract i.e. one year, two year etc.\n",
    "plt.figure(figsize = (15,6))\n",
    "sns.scatterplot(data=data, x=\"TERM_LENGTH\", y=\"esi_annual_mwh\")"
   ]
  },
  {
   "cell_type": "markdown",
   "id": "85f6af15",
   "metadata": {},
   "source": [
    "#### Check outliers"
   ]
  },
  {
   "cell_type": "code",
   "execution_count": null,
   "id": "36009639",
   "metadata": {
    "scrolled": false
   },
   "outputs": [],
   "source": [
    "#esi_annual_mwh\n",
    "\n",
    "plt.figure(figsize=(10, 8))\n",
    "plt.ylim(-100, 50000)\n",
    "sns.set_style(\"whitegrid\")\n",
    "sns.boxplot(x=\"esi_annual_mwh\", \n",
    "            y=\"Product_Type\", \n",
    "            data=data)\n",
    "plt.ylabel(\"Product Type\", size=12)\n",
    "plt.xlabel(\"annual usage\", size=12)\n",
    "\n",
    "plt.savefig(\"simple_boxplot_with_Seaborn_boxplot_Python.png\")"
   ]
  },
  {
   "cell_type": "code",
   "execution_count": null,
   "id": "f420258e",
   "metadata": {},
   "outputs": [],
   "source": [
    "index1 = np.where(data['esi_annual_mwh'] > 6000)\n",
    "print(index1)"
   ]
  },
  {
   "cell_type": "code",
   "execution_count": null,
   "id": "c5dec254",
   "metadata": {},
   "outputs": [],
   "source": [
    "#Term length\n",
    "\n",
    "plt.figure(figsize=(10, 4))\n",
    "plt.xlim(0, 120)\n",
    "sns.set_style(\"whitegrid\")\n",
    "\n",
    "sns.boxplot(x=\"TERM_LENGTH\",\n",
    "            data=data)\n",
    "plt.xlabel(\"TERM_LENGTH\", size=14)\n",
    "\n",
    "plt.savefig(\"simple_boxplot_with_Seaborn_boxplot_Python.png\")"
   ]
  },
  {
   "cell_type": "code",
   "execution_count": null,
   "id": "884136f6",
   "metadata": {},
   "outputs": [],
   "source": [
    "index1 = np.where(data['TERM_LENGTH'] > 90)\n",
    "print(index1)\n",
    "#a good amount of customer's term length > 90, hence not considering as outliers"
   ]
  },
  {
   "cell_type": "code",
   "execution_count": null,
   "id": "4dc17cdc",
   "metadata": {},
   "outputs": [],
   "source": [
    "#esi_bp_tenure_months\n",
    "\n",
    "plt.figure(figsize=(10, 4))\n",
    "plt.xlim(-100, 1000)\n",
    "sns.set_style(\"whitegrid\")\n",
    "\n",
    "sns.boxplot(x=\"esi_bp_tenure_months\",\n",
    "            data=data)\n",
    "plt.xlabel(\"esi_bp_tenure_months\", size=14)\n",
    "\n",
    "plt.savefig(\"simple_boxplot_with_Seaborn_boxplot_Python.png\")"
   ]
  },
  {
   "cell_type": "code",
   "execution_count": null,
   "id": "c3f15abb",
   "metadata": {},
   "outputs": [],
   "source": [
    "#BP_tenure_mnth\n",
    "\n",
    "plt.figure(figsize=(10, 4))\n",
    "plt.xlim(-100, 1000)\n",
    "sns.set_style(\"whitegrid\")\n",
    "\n",
    "sns.boxplot(x=\"BP_tenure_mth\",\n",
    "            data=data)\n",
    "plt.xlabel(\"BP_tenure_mth\", size=14)\n",
    "\n",
    "plt.savefig(\"simple_boxplot_with_Seaborn_boxplot_Python.png\")"
   ]
  },
  {
   "cell_type": "code",
   "execution_count": null,
   "id": "c9fc34cd",
   "metadata": {
    "scrolled": true
   },
   "outputs": [],
   "source": [
    "#drop outliers\n",
    "data = data.drop(data.index[[28996, 43313]])"
   ]
  },
  {
   "cell_type": "markdown",
   "id": "7b557c2c",
   "metadata": {},
   "source": [
    "## data prep"
   ]
  },
  {
   "cell_type": "code",
   "execution_count": null,
   "id": "2b99ba53",
   "metadata": {},
   "outputs": [],
   "source": [
    "#copy cleaned data to data_p\n",
    "data_p = data.copy()"
   ]
  },
  {
   "cell_type": "code",
   "execution_count": null,
   "id": "b6682dd9",
   "metadata": {},
   "outputs": [],
   "source": [
    "data_p.info()"
   ]
  },
  {
   "cell_type": "code",
   "execution_count": null,
   "id": "43fdb404",
   "metadata": {},
   "outputs": [],
   "source": [
    "data['ESI_ID'].value_counts()"
   ]
  },
  {
   "cell_type": "code",
   "execution_count": null,
   "id": "25465aa1",
   "metadata": {},
   "outputs": [],
   "source": [
    "#drop all variable which are unkown at the time of prediction\n",
    "data_p = data_p.drop(['FROM_TERM_LENGTH','ren_channel','swap_channel', 'To_Price_Bucket','to_product_group', 'LOSS_TYPE'], axis=1)"
   ]
  },
  {
   "cell_type": "code",
   "execution_count": null,
   "id": "35c51d0d",
   "metadata": {},
   "outputs": [],
   "source": [
    "#Currently we have multiple rows per cusotmer, for clustering we should have one row per cluster. In order to convert \n",
    "# dataset \"one row per customer\" we can rank rows group by ESI ID and take the last (most recent) row per cusotmer\n",
    "\n",
    "#create rank group by ESI ID\n",
    "data_p[\"rank\"] = data_p.groupby(\"ESI_ID\")[\"TERM_END_DT\"].rank(ascending=False)"
   ]
  },
  {
   "cell_type": "code",
   "execution_count": null,
   "id": "483f22fc",
   "metadata": {},
   "outputs": [],
   "source": [
    "#calculate mean of annual mwh and fill all row per ESI_ID\n",
    "data_p['esi_annual_mwh'] = data_p.groupby('ESI_ID')['esi_annual_mwh'].transform('mean')"
   ]
  },
  {
   "cell_type": "code",
   "execution_count": null,
   "id": "9ac348b4",
   "metadata": {},
   "outputs": [],
   "source": [
    "#calculate mean of Term length and fill all row per ESI_ID\n",
    "data_p['TERM_LENGTH'] = data_p.groupby('ESI_ID')['TERM_LENGTH'].transform('mean')"
   ]
  },
  {
   "cell_type": "code",
   "execution_count": null,
   "id": "18a1756e",
   "metadata": {},
   "outputs": [],
   "source": [
    "#take the recent row per customer\n",
    "data_p = data_p[data_p['rank']==1]"
   ]
  },
  {
   "cell_type": "code",
   "execution_count": null,
   "id": "746be538",
   "metadata": {},
   "outputs": [],
   "source": [
    "data_p['ESI_ID'].value_counts()"
   ]
  },
  {
   "cell_type": "code",
   "execution_count": null,
   "id": "429f1271",
   "metadata": {},
   "outputs": [],
   "source": [
    "#Active at 6 month: if(last term end date + 6 month)< loss date, 1(active), 0(lost)\n",
    "data_p['Active_at_6'] = np.where((data_p.TERM_END_DT + pd.DateOffset(months=6))<data_p.snapshot_date_loss,1,0)"
   ]
  },
  {
   "cell_type": "code",
   "execution_count": null,
   "id": "f6b5c17e",
   "metadata": {},
   "outputs": [],
   "source": [
    "#Number of active customers in rollover and renewal categories\n",
    "data_p.groupby(['Active_at_6']).T2_SWAP_TYPE.value_counts()"
   ]
  },
  {
   "cell_type": "markdown",
   "id": "6eb2793b",
   "metadata": {},
   "source": [
    "## converting to dummy data"
   ]
  },
  {
   "cell_type": "code",
   "execution_count": null,
   "id": "0f28bd72",
   "metadata": {},
   "outputs": [],
   "source": [
    "#copy prep data to data_K for clustering\n",
    "data_k = data_p.copy()"
   ]
  },
  {
   "cell_type": "code",
   "execution_count": null,
   "id": "eabd8ef6",
   "metadata": {},
   "outputs": [],
   "source": [
    "#copy prep data to df1 for converting to dummy\n",
    "df1 = data_p.copy()"
   ]
  },
  {
   "cell_type": "code",
   "execution_count": null,
   "id": "e80d83d4",
   "metadata": {},
   "outputs": [],
   "source": [
    "df1.info()"
   ]
  },
  {
   "cell_type": "code",
   "execution_count": null,
   "id": "8c828117",
   "metadata": {},
   "outputs": [],
   "source": [
    "#drop variable not requied for clustering\n",
    "df1.drop([\"esi_bp_tenure_months\",\"TERM_END_DT\",\"snapshot_date_loss\",\"ESI_ID\",\"swap_type\",\"rank\",], axis=1, inplace=True)"
   ]
  },
  {
   "cell_type": "code",
   "execution_count": null,
   "id": "1ec4541d",
   "metadata": {},
   "outputs": [],
   "source": [
    "#Filter out object variables\n",
    "categorical_features = df1.select_dtypes(\"object\").columns"
   ]
  },
  {
   "cell_type": "code",
   "execution_count": null,
   "id": "faeed19c",
   "metadata": {},
   "outputs": [],
   "source": [
    "#convert to dummy\n",
    "df_dummy=pd.get_dummies(data=df1,columns=categorical_features, drop_first = True)\n",
    "df_dummy.head(10)"
   ]
  },
  {
   "cell_type": "code",
   "execution_count": null,
   "id": "90e04930",
   "metadata": {},
   "outputs": [],
   "source": [
    "df_dummy.rename(columns={'dm_flag_1.0': 'dm_flag_1', 'obtm_flag_1.0': 'obtm_flag_1'}, inplace=True)"
   ]
  },
  {
   "cell_type": "code",
   "execution_count": null,
   "id": "93322127",
   "metadata": {},
   "outputs": [],
   "source": [
    "#calculate correaltion\n",
    "df_dummy.corr()"
   ]
  },
  {
   "cell_type": "code",
   "execution_count": null,
   "id": "4ea95d98",
   "metadata": {},
   "outputs": [],
   "source": [
    "#heat map of correlation \n",
    "plt.figure(figsize=(12,8))\n",
    "mask = np.zeros_like(df_dummy.corr(), dtype=np.bool)\n",
    "mask[np.triu_indices_from(mask)] = True\n",
    "sns.heatmap(df_dummy.corr(),cmap=\"jet\",annot=True,linewidths=0, linecolor='white',cbar=True,mask=mask)"
   ]
  },
  {
   "cell_type": "code",
   "execution_count": null,
   "id": "e7974f9d",
   "metadata": {},
   "outputs": [],
   "source": [
    "#standardize columns in order to make all columns impact similar\n",
    "ss = StandardScaler()\n",
    "df_dummy[[\"TERM_LENGTH\",\"BP_tenure_mth\",\"esi_annual_mwh\"]]= ss.fit_transform(df_dummy[[\"TERM_LENGTH\",\"BP_tenure_mth\",\"esi_annual_mwh\"]])"
   ]
  },
  {
   "cell_type": "code",
   "execution_count": null,
   "id": "eb38fd3f",
   "metadata": {},
   "outputs": [],
   "source": [
    "df_dummy.head()"
   ]
  },
  {
   "cell_type": "markdown",
   "id": "a1891895",
   "metadata": {},
   "source": [
    "# K means Cluster"
   ]
  },
  {
   "cell_type": "code",
   "execution_count": null,
   "id": "86aaf144",
   "metadata": {},
   "outputs": [],
   "source": [
    "distortions = []\n",
    "K = range(1,10)\n",
    "for k in K:\n",
    "    kmeanModel = KMeans(n_clusters=k)\n",
    "    kmeanModel.fit(df_dummy)\n",
    "    distortions.append(kmeanModel.inertia_)\n",
    "    \n",
    "plt.figure(figsize=(12,8))\n",
    "plt.plot(K, distortions, 'bx-')\n",
    "plt.xlabel('k')\n",
    "plt.ylabel('Distortion')\n",
    "plt.title('The Elbow Method showing the optimal k')\n",
    "plt.show()\n",
    "\n",
    "#could select 4 or 5 as number of clusters, we'll select 5"
   ]
  },
  {
   "cell_type": "code",
   "execution_count": null,
   "id": "744425d6",
   "metadata": {},
   "outputs": [],
   "source": [
    "##resize jupyter\n",
    "#from IPython.core.display import display, HTML\n",
    "#display(HTML(\"<style>.container { width:100% !important; }</style>\"))"
   ]
  },
  {
   "cell_type": "code",
   "execution_count": null,
   "id": "55ffa857",
   "metadata": {},
   "outputs": [],
   "source": [
    "centers = np.array([[ 0.48706377, -0.47029284, -0.0889569,   0.69138448,  0.19283112,  0.78793399,\n",
    "   0.02512859,  0.02019931,  0.30025718,  0.98939134,  0.99485641,  0.07367124,\n",
    "   0.61771324,  0.60013931],\n",
    " [-1.35706017, -0.46290241, -0.08074071,  0.76366431,  0.15536428,  0.81537043,\n",
    "   0.03627421,  0.04352905,  0.61364894,  0.89750999,  0.98094067,  0.16649247,\n",
    "   0.59717184, 0.62065785],\n",
    " [ 0.51415319, -0.14956631,  0.00710189,  0.94274013, 0.63372228,  0.2947222,\n",
    "   0.02689128,  0.1190789,   0.78201066,  0.69314582,  0.89166216,  0.88996214,\n",
    "   0.05277799,  0.40221003],\n",
    " [ 0.50844611,  2.71062159, -0.10359337,  0.90215954,  0.57205818,  0.39466725,\n",
    "   0.044513,    0.11282503,  0.75738211,  0.76928162,  0.94733363,  0.62163949,\n",
    "   0.28052005,  0.52379903],\n",
    " [ 0.6019522,   0.88942966,  0.50175755,  0.78682635,  0.3997006,   0.52919162,\n",
    "   0.0495509,   0.12200599,  0.64476048,  0.9007485,   0.97230539,  0.29760479,\n",
    "   0.48922156,  0.53517964]],np.float64)\n",
    " "
   ]
  },
  {
   "cell_type": "code",
   "execution_count": null,
   "id": "a8a84e42",
   "metadata": {},
   "outputs": [],
   "source": [
    "#centers.ndim"
   ]
  },
  {
   "cell_type": "code",
   "execution_count": null,
   "id": "6f2107ac",
   "metadata": {},
   "outputs": [],
   "source": [
    "#centers.shape"
   ]
  },
  {
   "cell_type": "code",
   "execution_count": null,
   "id": "77f5df91",
   "metadata": {
    "scrolled": true
   },
   "outputs": [],
   "source": [
    "random.seed = 0\n",
    "model=KMeans(n_clusters=5\n",
    "             #init=centers\n",
    "             #,max_iter=10, n_init=1, verbose=0, random_state=0)\n",
    "             ,init=centers, max_iter=1)\n",
    "            #, init='k-means++', random_state=0)\n",
    "model.fit(df_dummy)\n",
    "#Adding the cluster labels to the dataset\n",
    "data_k['labels']=model.labels_"
   ]
  },
  {
   "cell_type": "code",
   "execution_count": null,
   "id": "824dba9c",
   "metadata": {},
   "outputs": [],
   "source": [
    "#centers = model.cluster_centers_\n",
    "#print(centers)"
   ]
  },
  {
   "cell_type": "code",
   "execution_count": null,
   "id": "5b57504b",
   "metadata": {},
   "outputs": [],
   "source": [
    "#Lets look at the clusters with other variables\n",
    "\n",
    "data_k.reset_index().groupby('labels').agg({\n",
    "                                            'ESI_ID':'count', #number of customers\n",
    "                                            'TERM_LENGTH':'mean', #avg of term length\n",
    "                                            'esi_annual_mwh':'mean', #avg of annual mwh\n",
    "                                            'BP_tenure_mth':'mean', #avg of tenure mnth\n",
    "                                            'Active_at_6':'mean', #proportion of customer active after 6 month of term end date\n",
    "                                            'Product_Type': lambda x: pd.Series.mode(x), #most frequent product type\n",
    "                                            'From_Price_Bucket': lambda x: pd.Series.mode(x), #most frequent price bucket\n",
    "                                            'Major_Group': lambda x: pd.Series.mode(x), #most frequent industry\n",
    "                                            'T2_SWAP_TYPE': lambda x: pd.Series.mode(x), #most frequent swap type\n",
    "                                            'dm_flag': lambda x: pd.Series.mode(x), #most frequent dm contact (contacted or not)\n",
    "                                            'obtm_flag': lambda x: pd.Series.mode(x), #most frequent obtm contact (contacted or not)\n",
    "                                            'Price_Delta_Bucket': lambda x: pd.Series.mode(x), #most frequent price change bucket\n",
    "                                                 })\n",
    "#.sort_values(['ESI_ID','labels'],ascending=True)"
   ]
  },
  {
   "cell_type": "code",
   "execution_count": null,
   "id": "851e6fe8",
   "metadata": {},
   "outputs": [],
   "source": [
    "data_k.to_csv('C:/Users/vndnt/Box/04TXU/python/datalabels.csv')"
   ]
  },
  {
   "cell_type": "code",
   "execution_count": null,
   "id": "6bcca559",
   "metadata": {},
   "outputs": [],
   "source": [
    "##resize jupyter\n",
    "#from IPython.core.display import display, HTML\n",
    "#display(HTML(\"<style>.container { width:100% !important; }</style>\"))"
   ]
  },
  {
   "cell_type": "code",
   "execution_count": null,
   "id": "eba01f1a",
   "metadata": {},
   "outputs": [],
   "source": [
    "#percentage of T2 swap type per cluster\n",
    "pd.crosstab(data_k['labels'], data_k['T2_SWAP_TYPE'], normalize='index')"
   ]
  },
  {
   "cell_type": "code",
   "execution_count": null,
   "id": "afcbb701",
   "metadata": {},
   "outputs": [],
   "source": [
    "#percentage of dm conatct per cluster\n",
    "pd.crosstab(data_k['labels'], data_k['dm_flag'], normalize='index')"
   ]
  },
  {
   "cell_type": "code",
   "execution_count": null,
   "id": "b428a684",
   "metadata": {
    "scrolled": false
   },
   "outputs": [],
   "source": [
    "#percentage of obtm contact per cluster\n",
    "pd.crosstab(data_k['labels'], data_k['obtm_flag'], normalize='index')"
   ]
  },
  {
   "cell_type": "code",
   "execution_count": null,
   "id": "6077f5c3",
   "metadata": {},
   "outputs": [],
   "source": [
    "#percentage of from price bucket per cluster\n",
    "pd.crosstab(data_k['labels'], data_k['From_Price_Bucket'], normalize='index')"
   ]
  },
  {
   "cell_type": "code",
   "execution_count": null,
   "id": "4bca4515",
   "metadata": {},
   "outputs": [],
   "source": [
    "##percentage of price change bucket per cluster\n",
    "pd.crosstab(data_k['labels'], data_k['Major_Group'], normalize='index')"
   ]
  },
  {
   "cell_type": "code",
   "execution_count": null,
   "id": "e585e24c",
   "metadata": {},
   "outputs": [],
   "source": [
    "##percentage of price change bucket per cluster\n",
    "pd.crosstab(data_k['labels'], data_k['Price_Delta_Bucket'], normalize='index')"
   ]
  },
  {
   "cell_type": "markdown",
   "id": "3779889b",
   "metadata": {},
   "source": [
    "## Model"
   ]
  },
  {
   "cell_type": "code",
   "execution_count": null,
   "id": "17fdc0df",
   "metadata": {},
   "outputs": [],
   "source": [
    "# copy cluster data to data_m to run model\n",
    "data_m = data_k.copy()"
   ]
  },
  {
   "cell_type": "code",
   "execution_count": null,
   "id": "df8fb0e0",
   "metadata": {},
   "outputs": [],
   "source": [
    "data_m.head()"
   ]
  },
  {
   "cell_type": "code",
   "execution_count": null,
   "id": "75e39dd4",
   "metadata": {},
   "outputs": [],
   "source": [
    "#drop variable unkown at time of prediction\n",
    "data_m.drop([\"TERM_END_DT\",\"snapshot_date_loss\",\"ESI_ID\",\"swap_type\",\"rank\",\"Price_Delta_Bucket\",\"Active_at_6\",\"esi_bp_tenure_months\"], axis=1, inplace=True)"
   ]
  },
  {
   "cell_type": "code",
   "execution_count": null,
   "id": "63693b8a",
   "metadata": {},
   "outputs": [],
   "source": [
    "# change data type of labels\n",
    "data_m['labels']= data_m['labels'].astype(object)"
   ]
  },
  {
   "cell_type": "code",
   "execution_count": null,
   "id": "0a112dc5",
   "metadata": {},
   "outputs": [],
   "source": [
    "data_m.head()"
   ]
  },
  {
   "cell_type": "code",
   "execution_count": null,
   "id": "2b6bdb12",
   "metadata": {},
   "outputs": [],
   "source": [
    "#Convert to dummy variables\n",
    "categorical_features = data_m.select_dtypes(\"object\").columns\n",
    "df_dummy=pd.get_dummies(data=data_m,columns=categorical_features)\n",
    "df_dummy.head()"
   ]
  },
  {
   "cell_type": "code",
   "execution_count": null,
   "id": "91757e5b",
   "metadata": {},
   "outputs": [],
   "source": [
    "df_dummy.to_csv('C:/Users/vndnt/Box/04TXU/python/datadummy.csv')"
   ]
  },
  {
   "cell_type": "code",
   "execution_count": null,
   "id": "cb3a7f68",
   "metadata": {},
   "outputs": [],
   "source": [
    "#standardize columns in order to make all columns impact similar\n",
    "from sklearn.preprocessing import StandardScaler\n",
    "ss = StandardScaler()\n",
    "df_dummy[[\"TERM_LENGTH\",\"BP_tenure_mth\",\"esi_annual_mwh\"]]= ss.fit_transform(df_dummy[[\"TERM_LENGTH\",\"BP_tenure_mth\",\"esi_annual_mwh\"]])\n"
   ]
  },
  {
   "cell_type": "code",
   "execution_count": null,
   "id": "7295f7e3",
   "metadata": {},
   "outputs": [],
   "source": [
    "#rename columns\n",
    "df_dummy.rename(columns={'dm_flag_0.0': 'dm_flag_0', 'obtm_flag_0.0': 'obtm_flag_0', 'dm_flag_1.0': 'dm_flag_1', 'obtm_flag_1.0': 'obtm_flag_1'}, inplace=True)"
   ]
  },
  {
   "cell_type": "code",
   "execution_count": null,
   "id": "e77ecc48",
   "metadata": {},
   "outputs": [],
   "source": [
    "df_dummy.head()"
   ]
  },
  {
   "cell_type": "code",
   "execution_count": null,
   "id": "01aac609",
   "metadata": {},
   "outputs": [],
   "source": [
    "#run model with check impact of each contact on each cluster\n",
    "model = smf.logit(\"T2_SWAP_TYPE_RENEWAL ~  dm_flag_1*labels_1 + dm_flag_1*labels_2 + dm_flag_1*labels_4 + dm_flag_1*labels_3 + obtm_flag_1*labels_1 + obtm_flag_1*labels_2 + obtm_flag_1*labels_3 + obtm_flag_1*labels_4\", data = df_dummy).fit_regularized()\n",
    "model.summary()"
   ]
  },
  {
   "cell_type": "code",
   "execution_count": null,
   "id": "407a05a1",
   "metadata": {},
   "outputs": [],
   "source": [
    "# log_odds ratio\n",
    "x=model.params\n",
    "\n",
    "#odds\n",
    "odds=np.exp(x)\n",
    "\n",
    "#Probability\n",
    "p = odds/(1 + odds)\n",
    "pd.DataFrame(p,\n",
    "             columns=['prob'])\\\n",
    "            .sort_values(by='prob', ascending=False)"
   ]
  },
  {
   "cell_type": "code",
   "execution_count": null,
   "id": "25ac826b",
   "metadata": {},
   "outputs": [],
   "source": [
    "#model prediction accuracy\n",
    "model.pred_table()"
   ]
  },
  {
   "cell_type": "code",
   "execution_count": null,
   "id": "3d691c3d",
   "metadata": {},
   "outputs": [],
   "source": [
    "#run model with check impact of each contact on each cluster\n",
    "model1 = smf.logit(\"T2_SWAP_TYPE_LOSS ~  dm_flag_1 + obtm_flag_1\", data = df_dummy).fit_regularized()\n",
    "model1.summary()"
   ]
  },
  {
   "cell_type": "code",
   "execution_count": null,
   "id": "4f6e2c42",
   "metadata": {},
   "outputs": [],
   "source": [
    "# log_odds ratio\n",
    "x1=model1.params\n",
    "\n",
    "#odds\n",
    "odds1=np.exp(x1)\n",
    "\n",
    "#Probability\n",
    "p = odds1/(1 + odds1)\n",
    "pd.DataFrame(p,\n",
    "             columns=['prob'])\\\n",
    "            .sort_values(by='prob', ascending=False)"
   ]
  },
  {
   "cell_type": "code",
   "execution_count": null,
   "id": "3d09ad8f",
   "metadata": {},
   "outputs": [],
   "source": []
  }
 ],
 "metadata": {
  "kernelspec": {
   "display_name": "Python 3 (ipykernel)",
   "language": "python",
   "name": "python3"
  },
  "language_info": {
   "codemirror_mode": {
    "name": "ipython",
    "version": 3
   },
   "file_extension": ".py",
   "mimetype": "text/x-python",
   "name": "python",
   "nbconvert_exporter": "python",
   "pygments_lexer": "ipython3",
   "version": "3.9.7"
  }
 },
 "nbformat": 4,
 "nbformat_minor": 5
}
